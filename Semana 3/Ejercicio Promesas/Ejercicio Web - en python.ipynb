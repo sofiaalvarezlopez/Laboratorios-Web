{
 "cells": [
  {
   "cell_type": "code",
   "execution_count": 1,
   "id": "fd0ae317",
   "metadata": {},
   "outputs": [],
   "source": [
    "import requests"
   ]
  },
  {
   "cell_type": "code",
   "execution_count": 2,
   "id": "fe5fa3ca",
   "metadata": {},
   "outputs": [],
   "source": [
    "url_productos = \"https://gist.githubusercontent.com/josejbocanegra/be0461060d1c2d899740b8247089ba22/raw/916d2141e32e04031bda79c8886e8e4df0ae7f24/productos.json\"\n",
    "r = requests.get(url_productos)\n",
    "productos = r.json()"
   ]
  },
  {
   "cell_type": "code",
   "execution_count": 3,
   "id": "1df27365",
   "metadata": {},
   "outputs": [],
   "source": [
    "url_pedidos = \"https://gist.githubusercontent.com/josejbocanegra/7b6febf87e9d986048a648487b35e693/raw/576531a2d0e601838fc3de997e021816a4b730f8/detallePedido.json\"\n",
    "r = requests.get(url_pedidos)\n",
    "pedidos = r.json()"
   ]
  },
  {
   "cell_type": "code",
   "execution_count": 4,
   "id": "5014156b",
   "metadata": {},
   "outputs": [],
   "source": [
    "dicc = {}\n",
    "for pedido in pedidos:\n",
    "    if pedido['idproducto'] in dicc:\n",
    "        dicc[pedido['idproducto']] += int(pedido['cantidad'])\n",
    "    else:\n",
    "        dicc[pedido['idproducto']] = int(pedido['cantidad'])"
   ]
  },
  {
   "cell_type": "code",
   "execution_count": 5,
   "id": "5cdd87da",
   "metadata": {},
   "outputs": [],
   "source": [
    "productos_dict = {}\n",
    "for producto in productos:\n",
    "    productos_dict[producto['idproducto']] = producto['nombreProducto']"
   ]
  },
  {
   "cell_type": "code",
   "execution_count": 6,
   "id": "f97c21d3",
   "metadata": {},
   "outputs": [],
   "source": [
    "final = dict((value, dicc[key]) for (key, value) in productos_dict.items())"
   ]
  },
  {
   "cell_type": "code",
   "execution_count": 7,
   "id": "d47f79ad",
   "metadata": {},
   "outputs": [
    {
     "data": {
      "text/plain": [
       "('Camembert Pierrot', 1577)"
      ]
     },
     "execution_count": 7,
     "metadata": {},
     "output_type": "execute_result"
    }
   ],
   "source": [
    "list(final.keys())[list(final.values()).index(max(final.values()))], max(final.values())"
   ]
  }
 ],
 "metadata": {
  "kernelspec": {
   "display_name": "Python 3 (ipykernel)",
   "language": "python",
   "name": "python3"
  },
  "language_info": {
   "codemirror_mode": {
    "name": "ipython",
    "version": 3
   },
   "file_extension": ".py",
   "mimetype": "text/x-python",
   "name": "python",
   "nbconvert_exporter": "python",
   "pygments_lexer": "ipython3",
   "version": "3.9.12"
  }
 },
 "nbformat": 4,
 "nbformat_minor": 5
}
